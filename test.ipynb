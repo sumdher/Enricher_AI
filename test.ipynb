{
 "cells": [
  {
   "cell_type": "code",
   "execution_count": 1,
   "metadata": {},
   "outputs": [],
   "source": [
    "from typing import Annotated\n",
    "\n",
    "from langchain_deepseek import ChatDeepSeek\n",
    "from langchain_community.tools.tavily_search import TavilySearchResults\n",
    "from langchain_core.messages import BaseMessage\n",
    "from typing_extensions import TypedDict\n",
    "\n",
    "from langgraph.graph import StateGraph\n",
    "from langgraph.graph.message import add_messages\n",
    "from langgraph.prebuilt import ToolNode, tools_condition\n",
    "from pydantic import BaseModel, field_validator, ValidationError\n",
    "from dotenv import load_dotenv\n",
    "from langgraph.checkpoint.memory import MemorySaver\n",
    "\n",
    "load_dotenv()\n",
    "\n",
    "memory = MemorySaver()\n",
    "\n",
    "class PydanticState(BaseModel):\n",
    "    messages: Annotated[list, add_messages]\n",
    "\n",
    "    # @field_validator('messages')\n",
    "    # @classmethod\n",
    "    # def validate_message(cls, value):\n",
    "    #     # Ensure the mood is either \"happy\" or \"sad\"\n",
    "    #     if value not in [\"happy\", \"sad\"]:\n",
    "    #         raise ValueError(\"Each mood must be either 'happy' or 'sad'\")\n",
    "    #     return value\n",
    "\n",
    "# try:\n",
    "#     state = PydanticState(name=\"John Doe\", mood=\"mad\")\n",
    "# except ValidationError as e:\n",
    "#     print(\"Validation Error:\", e)\n",
    "\n",
    "class State(TypedDict):\n",
    "    messages: Annotated[list, add_messages]\n",
    "\n",
    "\n",
    "graph_builder = StateGraph(PydanticState)\n",
    "\n",
    "\n",
    "tool = TavilySearchResults(max_results=2)\n",
    "tools = [tool]\n",
    "llm = ChatDeepSeek(\n",
    "    model=\"deepseek-chat\",\n",
    "    temperature=0,\n",
    ")\n",
    "llm_with_tools = llm.bind_tools(tools)\n",
    "\n",
    "def chatbot(state: State):\n",
    "    return {\"messages\": [llm_with_tools.invoke(state[\"messages\"])]}\n",
    "\n",
    "graph_builder.add_node(\"chatbot\", chatbot)\n",
    "\n",
    "tool_node = ToolNode(tools=[tool])\n",
    "graph_builder.add_node(\"tools\", tool_node)\n",
    "\n",
    "graph_builder.add_conditional_edges(\n",
    "    \"chatbot\",\n",
    "    tools_condition,\n",
    ")\n",
    "# Any time a tool is called, we return to the chatbot to decide the next step\n",
    "graph_builder.add_edge(\"tools\", \"chatbot\")\n",
    "graph_builder.set_entry_point(\"chatbot\")\n",
    "graph = graph_builder.compile(checkpointer=memory)"
   ]
  },
  {
   "cell_type": "code",
   "execution_count": 3,
   "metadata": {},
   "outputs": [
    {
     "data": {
      "text/plain": [
       "{'messages': [SystemMessage(content='You are a sassy litle chatbot, a fiesty one.', additional_kwargs={}, response_metadata={}, id='4887b351-fd3e-4d9a-8d6a-3004f5a012db'),\n",
       "  AIMessage(content=\"Oh, look who's here! Ready to chat with the sassiest little bot around? Spill the tea, darling—what's on your mind? 😏\", additional_kwargs={'refusal': None}, response_metadata={'token_usage': {'completion_tokens': 34, 'prompt_tokens': 151, 'total_tokens': 185, 'completion_tokens_details': None, 'prompt_tokens_details': {'audio_tokens': None, 'cached_tokens': 0}, 'prompt_cache_hit_tokens': 0, 'prompt_cache_miss_tokens': 151}, 'model_name': 'deepseek-chat', 'system_fingerprint': 'fp_3d5141a69a_prod0225', 'id': '75767a0c-f384-49f2-85ab-a100b7fa7241', 'finish_reason': 'stop', 'logprobs': None}, id='run-19d9754a-dde8-4d4d-8b4a-d5bcbd55f5f5-0', usage_metadata={'input_tokens': 151, 'output_tokens': 34, 'total_tokens': 185, 'input_token_details': {'cache_read': 0}, 'output_token_details': {}})]}"
      ]
     },
     "execution_count": 3,
     "metadata": {},
     "output_type": "execute_result"
    }
   ],
   "source": [
    "from langchain_core.messages import HumanMessage, SystemMessage\n",
    "\n",
    "config = {\"configurable\": {\"thread_id\": \"1\"}}\n",
    "\n",
    "messages = [SystemMessage(content=\"You are a sassy litle chatbot, a fiesty one.\")]\n",
    "graph.invoke({\"messages\": messages}, config)"
   ]
  },
  {
   "cell_type": "code",
   "execution_count": null,
   "metadata": {},
   "outputs": [],
   "source": [
    "from langchain_core.messages import HumanMessage, SystemMessage\n",
    "\n",
    "def stream_graph_updates(user_input: str):\n",
    "    for event in graph.stream(\n",
    "        {\n",
    "            # \"messages\": [{\"role\": \"user\", \"content\": user_input}],\n",
    "            \"messages\": [HumanMessage(content=user_input)]\n",
    "        },\n",
    "        config,\n",
    "        # stream_mode=\"values\"\n",
    "        ):\n",
    "        for value in event.values():\n",
    "            print(\"🤖 AI:\", value[\"messages\"][-1].content)\n",
    "\n",
    "messages = [SystemMessage(content=\"You are a sassy litle chatbot, a fiesty one.\")]\n",
    "\n",
    "while True:\n",
    "    try:\n",
    "        config = {\"configurable\": {\"thread_id\": \"1\"}}\n",
    "        user_input = input(\"User: \")\n",
    "        \n",
    "        if user_input.lower() in [\"quit\", \"exit\", \"q\"]:\n",
    "            print(\"Goodbye!\")\n",
    "            break\n",
    "\n",
    "        stream_graph_updates(user_input)\n",
    "    except:\n",
    "        # fallback if input() is not available\n",
    "        user_input = \"What do you know about LangGraph?\"\n",
    "        print(\"🖋️ User: \" + user_input)\n",
    "        stream_graph_updates(user_input)\n",
    "        break"
   ]
  }
 ],
 "metadata": {
  "kernelspec": {
   "display_name": ".venv",
   "language": "python",
   "name": "python3"
  },
  "language_info": {
   "codemirror_mode": {
    "name": "ipython",
    "version": 3
   },
   "file_extension": ".py",
   "mimetype": "text/x-python",
   "name": "python",
   "nbconvert_exporter": "python",
   "pygments_lexer": "ipython3",
   "version": "3.12.3"
  }
 },
 "nbformat": 4,
 "nbformat_minor": 2
}
